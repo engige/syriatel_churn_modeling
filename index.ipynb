{
 "cells": [
  {
   "cell_type": "code",
   "execution_count": 1,
   "metadata": {},
   "outputs": [
    {
     "name": "stdout",
     "output_type": "stream",
     "text": [
      "<class 'pandas.core.frame.DataFrame'>\n",
      "RangeIndex: 3333 entries, 0 to 3332\n",
      "Data columns (total 21 columns):\n",
      " #   Column                  Non-Null Count  Dtype  \n",
      "---  ------                  --------------  -----  \n",
      " 0   state                   3333 non-null   object \n",
      " 1   account length          3333 non-null   int64  \n",
      " 2   area code               3333 non-null   int64  \n",
      " 3   phone number            3333 non-null   object \n",
      " 4   international plan      3333 non-null   object \n",
      " 5   voice mail plan         3333 non-null   object \n",
      " 6   number vmail messages   3333 non-null   int64  \n",
      " 7   total day minutes       3333 non-null   float64\n",
      " 8   total day calls         3333 non-null   int64  \n",
      " 9   total day charge        3333 non-null   float64\n",
      " 10  total eve minutes       3333 non-null   float64\n",
      " 11  total eve calls         3333 non-null   int64  \n",
      " 12  total eve charge        3333 non-null   float64\n",
      " 13  total night minutes     3333 non-null   float64\n",
      " 14  total night calls       3333 non-null   int64  \n",
      " 15  total night charge      3333 non-null   float64\n",
      " 16  total intl minutes      3333 non-null   float64\n",
      " 17  total intl calls        3333 non-null   int64  \n",
      " 18  total intl charge       3333 non-null   float64\n",
      " 19  customer service calls  3333 non-null   int64  \n",
      " 20  churn                   3333 non-null   bool   \n",
      "dtypes: bool(1), float64(8), int64(8), object(4)\n",
      "memory usage: 524.2+ KB\n"
     ]
    },
    {
     "data": {
      "text/plain": [
       "(None,\n",
       "   state  account length  area code phone number international plan  \\\n",
       " 0    KS             128        415     382-4657                 no   \n",
       " 1    OH             107        415     371-7191                 no   \n",
       " 2    NJ             137        415     358-1921                 no   \n",
       " 3    OH              84        408     375-9999                yes   \n",
       " 4    OK              75        415     330-6626                yes   \n",
       " \n",
       "   voice mail plan  number vmail messages  total day minutes  total day calls  \\\n",
       " 0             yes                     25              265.1              110   \n",
       " 1             yes                     26              161.6              123   \n",
       " 2              no                      0              243.4              114   \n",
       " 3              no                      0              299.4               71   \n",
       " 4              no                      0              166.7              113   \n",
       " \n",
       "    total day charge  ...  total eve calls  total eve charge  \\\n",
       " 0             45.07  ...               99             16.78   \n",
       " 1             27.47  ...              103             16.62   \n",
       " 2             41.38  ...              110             10.30   \n",
       " 3             50.90  ...               88              5.26   \n",
       " 4             28.34  ...              122             12.61   \n",
       " \n",
       "    total night minutes  total night calls  total night charge  \\\n",
       " 0                244.7                 91               11.01   \n",
       " 1                254.4                103               11.45   \n",
       " 2                162.6                104                7.32   \n",
       " 3                196.9                 89                8.86   \n",
       " 4                186.9                121                8.41   \n",
       " \n",
       "    total intl minutes  total intl calls  total intl charge  \\\n",
       " 0                10.0                 3               2.70   \n",
       " 1                13.7                 3               3.70   \n",
       " 2                12.2                 5               3.29   \n",
       " 3                 6.6                 7               1.78   \n",
       " 4                10.1                 3               2.73   \n",
       " \n",
       "    customer service calls  churn  \n",
       " 0                       1  False  \n",
       " 1                       1  False  \n",
       " 2                       0  False  \n",
       " 3                       2  False  \n",
       " 4                       3  False  \n",
       " \n",
       " [5 rows x 21 columns])"
      ]
     },
     "execution_count": 1,
     "metadata": {},
     "output_type": "execute_result"
    }
   ],
   "source": [
    "import pandas as pd\n",
    "\n",
    "# Load the dataset\n",
    "churn_data = pd.read_csv(\"churn_data.csv\")\n",
    "\n",
    "# Display the first few rows and summary information about the dataset\n",
    "churn_data_info = churn_data.info()\n",
    "churn_data_head = churn_data.head()\n",
    "\n",
    "churn_data_info, churn_data_head\n"
   ]
  }
 ],
 "metadata": {
  "kernelspec": {
   "display_name": "learn-env",
   "language": "python",
   "name": "python3"
  },
  "language_info": {
   "codemirror_mode": {
    "name": "ipython",
    "version": 3
   },
   "file_extension": ".py",
   "mimetype": "text/x-python",
   "name": "python",
   "nbconvert_exporter": "python",
   "pygments_lexer": "ipython3",
   "version": "3.8.5"
  }
 },
 "nbformat": 4,
 "nbformat_minor": 2
}
